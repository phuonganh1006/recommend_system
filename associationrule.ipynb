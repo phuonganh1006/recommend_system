{
 "cells": [
  {
   "cell_type": "markdown",
   "id": "259165e2-9a9f-4b95-8454-cc644f7f03c1",
   "metadata": {},
   "source": [
    "## Association Rules - BAKERY \n",
    "Use dataset **75000** (select suitable files in this folder) to build the model to **identify sets of items** that are frequently bought together with two cases: \n",
    "- Case 1: Using: **Id**\n",
    "- Case 2: Using: **Flavor and Food name (goods.csv)**."
   ]
  },
  {
   "cell_type": "code",
   "execution_count": 1,
   "id": "cfa768e1-8a9f-485a-8762-6240968ce57b",
   "metadata": {},
   "outputs": [],
   "source": [
    "import findspark\n",
    "findspark.init()"
   ]
  },
  {
   "cell_type": "code",
   "execution_count": 2,
   "id": "3b2c540c-240c-41dc-acab-89032f77ff26",
   "metadata": {},
   "outputs": [],
   "source": [
    "from pyspark import SparkContext\n",
    "from pyspark.conf import SparkConf\n",
    "from pyspark.sql import SparkSession"
   ]
  },
  {
   "cell_type": "code",
   "execution_count": 3,
   "id": "ecc0e169-e23c-44d2-bb3b-6e05e95b8c02",
   "metadata": {},
   "outputs": [],
   "source": [
    "# Pre-processing data\n",
    "from pyspark.sql.functions import collect_list, col, count, collect_set\n",
    "# Convert list array to string\n",
    "from pyspark.sql.types import StringType"
   ]
  },
  {
   "cell_type": "code",
   "execution_count": 4,
   "id": "602450eb-1179-4d7e-8e13-9cef2c5674cc",
   "metadata": {},
   "outputs": [],
   "source": [
    "spark = SparkSession.builder.appName('bakery').getOrCreate()"
   ]
  },
  {
   "cell_type": "markdown",
   "id": "8a35cf00-09a2-4fde-a09a-c511a902bfa3",
   "metadata": {},
   "source": [
    "### Case 1: Using Product ID"
   ]
  },
  {
   "cell_type": "code",
   "execution_count": 5,
   "id": "4da0bbd4-30c4-4136-9b85-46a0e5d77819",
   "metadata": {},
   "outputs": [],
   "source": [
    "data = spark.read.csv(\"Data/75000/75000i.csv\", header=False, inferSchema=True)"
   ]
  },
  {
   "cell_type": "code",
   "execution_count": 6,
   "id": "a19bb66a-74b3-434d-8de5-afad4fb7b891",
   "metadata": {},
   "outputs": [
    {
     "data": {
      "text/plain": [
       "266209"
      ]
     },
     "execution_count": 6,
     "metadata": {},
     "output_type": "execute_result"
    }
   ],
   "source": [
    "data.count()"
   ]
  },
  {
   "cell_type": "code",
   "execution_count": 7,
   "id": "c9a13aad-b09a-4e41-8305-7566d9695d81",
   "metadata": {},
   "outputs": [
    {
     "name": "stdout",
     "output_type": "stream",
     "text": [
      "+---+---+---+\n",
      "|_c0|_c1|_c2|\n",
      "+---+---+---+\n",
      "|  1|  1| 21|\n",
      "|  1|  5| 11|\n",
      "|  2|  1|  7|\n",
      "|  2|  3| 11|\n",
      "|  2|  4| 37|\n",
      "|  2|  3| 45|\n",
      "|  3|  5|  3|\n",
      "|  3|  3| 42|\n",
      "|  3|  3| 33|\n",
      "|  4|  1|  5|\n",
      "+---+---+---+\n",
      "only showing top 10 rows\n",
      "\n"
     ]
    }
   ],
   "source": [
    "data.show(10)"
   ]
  },
  {
   "cell_type": "code",
   "execution_count": 8,
   "id": "9eebc624-573c-4f94-9243-beab4cf50b4d",
   "metadata": {},
   "outputs": [],
   "source": [
    "data = data.withColumnRenamed('_c0', 'order_id')\\\n",
    "            .withColumnRenamed('_c1', 'items')\\\n",
    "            .withColumnRenamed('_c2', 'product_id')"
   ]
  },
  {
   "cell_type": "code",
   "execution_count": 9,
   "id": "fadac05f-8777-4008-90c2-6c320433e4cf",
   "metadata": {},
   "outputs": [
    {
     "name": "stdout",
     "output_type": "stream",
     "text": [
      "+--------+-----+----------+\n",
      "|order_id|items|product_id|\n",
      "+--------+-----+----------+\n",
      "|       1|    1|        21|\n",
      "|       1|    5|        11|\n",
      "|       2|    1|         7|\n",
      "|       2|    3|        11|\n",
      "|       2|    4|        37|\n",
      "+--------+-----+----------+\n",
      "only showing top 5 rows\n",
      "\n"
     ]
    }
   ],
   "source": [
    "data.show(5)"
   ]
  },
  {
   "cell_type": "code",
   "execution_count": 10,
   "id": "ce6a8688-ec8f-4162-a24a-4732b2c65435",
   "metadata": {},
   "outputs": [],
   "source": [
    "data.createOrReplaceTempView(\"order_products_train\")"
   ]
  },
  {
   "cell_type": "code",
   "execution_count": 11,
   "id": "d3387585-c925-4c4e-be87-f4ac07d86b31",
   "metadata": {},
   "outputs": [
    {
     "data": {
      "text/plain": [
       "50"
      ]
     },
     "execution_count": 11,
     "metadata": {},
     "output_type": "execute_result"
    }
   ],
   "source": [
    "products = spark.sql(\"select distinct product_id from order_products_train\")\n",
    "products.count()"
   ]
  },
  {
   "cell_type": "code",
   "execution_count": 12,
   "id": "cfd2f1ba-2214-4369-8e17-5830f0bb57e5",
   "metadata": {},
   "outputs": [],
   "source": [
    "rawData = spark.sql(\"select * from order_products_train\")\n",
    "# data\n",
    "baskets = rawData.groupBy('order_id').agg(collect_set('product_id').alias('items'))"
   ]
  },
  {
   "cell_type": "code",
   "execution_count": 13,
   "id": "2032abeb-7ed4-4d69-ace9-07a0738dd471",
   "metadata": {},
   "outputs": [
    {
     "name": "stdout",
     "output_type": "stream",
     "text": [
      "+--------+---------------+\n",
      "|order_id|items          |\n",
      "+--------+---------------+\n",
      "|1       |[21, 11]       |\n",
      "|2       |[45, 37, 7, 11]|\n",
      "|3       |[33, 42, 3]    |\n",
      "|4       |[12, 5, 17, 47]|\n",
      "|5       |[42, 6, 18]    |\n",
      "+--------+---------------+\n",
      "only showing top 5 rows\n",
      "\n"
     ]
    }
   ],
   "source": [
    "baskets.show(5, truncate=False)"
   ]
  },
  {
   "cell_type": "code",
   "execution_count": 14,
   "id": "67d4545f-ce8d-4d85-b78e-aa329cc33c6f",
   "metadata": {},
   "outputs": [
    {
     "data": {
      "text/plain": [
       "75000"
      ]
     },
     "execution_count": 14,
     "metadata": {},
     "output_type": "execute_result"
    }
   ],
   "source": [
    "baskets.count()"
   ]
  },
  {
   "cell_type": "code",
   "execution_count": 15,
   "id": "7b833f3f-975a-4a02-8dfa-6ecd4841b95a",
   "metadata": {},
   "outputs": [],
   "source": [
    "from pyspark.ml.fpm import FPGrowth"
   ]
  },
  {
   "cell_type": "code",
   "execution_count": 16,
   "id": "35055a0e-3487-441b-8929-df8ae0a0d7b5",
   "metadata": {},
   "outputs": [],
   "source": [
    "fpGrowth = FPGrowth(itemsCol=\"items\", minSupport=0.003, minConfidence=0.003)\n",
    "model = fpGrowth.fit(baskets)"
   ]
  },
  {
   "cell_type": "code",
   "execution_count": 17,
   "id": "c1fc6c82-3919-405e-b029-ac8a30fdaf4c",
   "metadata": {},
   "outputs": [
    {
     "name": "stdout",
     "output_type": "stream",
     "text": [
      "+--------+----+\n",
      "|   items|freq|\n",
      "+--------+----+\n",
      "|    [19]|5685|\n",
      "|[19, 27]| 359|\n",
      "|[19, 33]| 334|\n",
      "| [19, 1]|2764|\n",
      "|[19, 28]| 408|\n",
      "|[19, 37]| 274|\n",
      "|[19, 35]| 312|\n",
      "|[19, 16]| 286|\n",
      "| [19, 4]| 388|\n",
      "|[19, 46]| 324|\n",
      "|[19, 15]| 298|\n",
      "| [19, 5]| 323|\n",
      "|[19, 22]| 368|\n",
      "|[19, 32]| 297|\n",
      "|[19, 45]| 344|\n",
      "|[19, 47]| 331|\n",
      "| [19, 3]| 294|\n",
      "|[19, 14]| 350|\n",
      "|[19, 11]| 296|\n",
      "| [19, 0]| 305|\n",
      "+--------+----+\n",
      "only showing top 20 rows\n",
      "\n"
     ]
    }
   ],
   "source": [
    "# Display frequent itemsets.\n",
    "model.freqItemsets.show()"
   ]
  },
  {
   "cell_type": "code",
   "execution_count": 18,
   "id": "dc4d2949-aa81-4b06-b7fc-e740fd861473",
   "metadata": {},
   "outputs": [],
   "source": [
    "# transform \n",
    "mostPopularItemInABasket = model.transform(baskets)"
   ]
  },
  {
   "cell_type": "code",
   "execution_count": 58,
   "id": "62dbcf53-d147-4456-b2e5-b7c9c86392fe",
   "metadata": {},
   "outputs": [
    {
     "name": "stdout",
     "output_type": "stream",
     "text": [
      "-RECORD 0-----------------------------------------------------------------------------------------------------------------------------------------------------------------------------------------\n",
      " order_id   | 1                                                                                                                                                                                   \n",
      " items      | [21, 11]                                                                                                                                                                            \n",
      " prediction | [19, 33, 27, 1, 28, 35, 16, 46, 4, 15, 22, 5, 32, 45, 47, 14, 0, 18, 49, 9, 44, 42, 7, 17, 29, 2, 40, 37, 3]                                                                        \n",
      "-RECORD 1-----------------------------------------------------------------------------------------------------------------------------------------------------------------------------------------\n",
      " order_id   | 2                                                                                                                                                                                   \n",
      " items      | [45, 37, 7, 11]                                                                                                                                                                     \n",
      " prediction | [19, 41, 21, 31, 27, 38, 33, 17, 1, 24, 13, 28, 35, 16, 6, 25, 34, 46, 4, 15, 29, 5, 22, 8, 2, 23, 32, 48, 12, 47, 26, 43, 40, 14, 3, 10, 0, 18, 49, 20, 9, 30, 44, 42, 36]         \n",
      "-RECORD 2-----------------------------------------------------------------------------------------------------------------------------------------------------------------------------------------\n",
      " order_id   | 3                                                                                                                                                                                   \n",
      " items      | [33, 42, 3]                                                                                                                                                                         \n",
      " prediction | [19, 41, 21, 31, 27, 38, 17, 1, 24, 13, 39, 37, 16, 6, 25, 34, 46, 15, 29, 5, 22, 8, 2, 23, 32, 48, 12, 47, 26, 43, 40, 14, 10, 11, 0, 49, 20, 9, 30, 44, 28, 35, 4, 45, 18, 7, 36] \n",
      "only showing top 3 rows\n",
      "\n"
     ]
    }
   ],
   "source": [
    "mostPopularItemInABasket.show(3, truncate=False, vertical=True)"
   ]
  },
  {
   "cell_type": "code",
   "execution_count": 20,
   "id": "c81bf57c-4a96-4144-a198-2cccfb3ddf4c",
   "metadata": {},
   "outputs": [],
   "source": [
    "mostPopularItemInABasket.write.parquet(\"MPIB.parquet\", mode = \"overwrite\")"
   ]
  },
  {
   "cell_type": "markdown",
   "id": "fb613181-092a-402f-927e-35d33cc05ba6",
   "metadata": {},
   "source": [
    "### Case 1: Using ID"
   ]
  },
  {
   "cell_type": "markdown",
   "id": "63f69bcf-c4af-4176-9576-a9763dba504e",
   "metadata": {},
   "source": [
    "### Case 2: Using - Flavor and Food name"
   ]
  },
  {
   "cell_type": "code",
   "execution_count": 30,
   "id": "a86f7411-79a5-4a7d-a4c8-8f1b701a7ff5",
   "metadata": {},
   "outputs": [],
   "source": [
    "product_data = spark.read.csv('Data/75000/goods.csv', header=True, \n",
    "                              inferSchema=True)"
   ]
  },
  {
   "cell_type": "code",
   "execution_count": 31,
   "id": "f45364b5-99b2-42bd-a291-171bdd349ff8",
   "metadata": {},
   "outputs": [
    {
     "name": "stdout",
     "output_type": "stream",
     "text": [
      "+---+------------+------+-----+------+\n",
      "| Id|      Flavor|  Food|Price|  Type|\n",
      "+---+------------+------+-----+------+\n",
      "|  0| 'Chocolate'|'Cake'| 8.95|'Food'|\n",
      "|  1|     'Lemon'|'Cake'| 8.95|'Food'|\n",
      "|  2|    'Casino'|'Cake'|15.95|'Food'|\n",
      "|  3|     'Opera'|'Cake'|15.95|'Food'|\n",
      "|  4|'Strawberry'|'Cake'|11.95|'Food'|\n",
      "+---+------------+------+-----+------+\n",
      "only showing top 5 rows\n",
      "\n"
     ]
    }
   ],
   "source": [
    "product_data.show(5)"
   ]
  },
  {
   "cell_type": "code",
   "execution_count": 39,
   "id": "ebf63d78-3f15-4c49-bc7f-ad3112f607b7",
   "metadata": {},
   "outputs": [
    {
     "name": "stdout",
     "output_type": "stream",
     "text": [
      "root\n",
      " |-- Id: integer (nullable = true)\n",
      " |-- Flavor: string (nullable = true)\n",
      " |-- Food: string (nullable = true)\n",
      " |-- Price: double (nullable = true)\n",
      " |-- Type: string (nullable = true)\n",
      "\n"
     ]
    }
   ],
   "source": [
    "product_data.printSchema()"
   ]
  },
  {
   "cell_type": "code",
   "execution_count": 37,
   "id": "2b7dec5c-8f08-4008-8b96-b78d96ce6e83",
   "metadata": {},
   "outputs": [],
   "source": [
    "from pyspark.sql.functions import regexp_replace"
   ]
  },
  {
   "cell_type": "code",
   "execution_count": 42,
   "id": "9d556275-8c8a-4043-b822-2480576b5852",
   "metadata": {},
   "outputs": [],
   "source": [
    "# Loại bỏ dấu ' trước và sau chữ trong các cột Flavor, Food và Type\n",
    "product_data = product_data.withColumn(\"Flavor\", regexp_replace(\"Flavor\", \"'\", \"\"))\\\n",
    "            .withColumn(\"Food\", regexp_replace(\"Food\", \"'\", \"\"))\\\n",
    "            .withColumn(\"Type\", regexp_replace(\"Type\", \"'\", \"\"))"
   ]
  },
  {
   "cell_type": "code",
   "execution_count": 43,
   "id": "e2f76147-d04e-4a78-ab41-9d5dedc1959b",
   "metadata": {},
   "outputs": [],
   "source": [
    "product_data.createOrReplaceTempView(\"products\")"
   ]
  },
  {
   "cell_type": "code",
   "execution_count": 47,
   "id": "f9ca2605-73a5-4b38-910e-99dc80b6e135",
   "metadata": {},
   "outputs": [],
   "source": [
    "query = '''select concat(p.Flavor,' ',p.Food) as product_name, o.order_id \n",
    "            from products p inner join order_products_train o \n",
    "            where o.product_id = p.Id'''\n",
    "rawData_1 = spark.sql(query)\n",
    "baskets_1 = rawData_1.groupBy(\"order_id\").agg(collect_set(\"product_name\").alias(\"items\"))"
   ]
  },
  {
   "cell_type": "code",
   "execution_count": 49,
   "id": "00f05ef6-f42e-4ff7-8f47-978ef3b24b65",
   "metadata": {},
   "outputs": [
    {
     "name": "stdout",
     "output_type": "stream",
     "text": [
      "+--------+-------------------------------------------------------------------------------------------------------+\n",
      "|order_id|items                                                                                                  |\n",
      "+--------+-------------------------------------------------------------------------------------------------------+\n",
      "|1       |[Ganache Cookie, Apple Pie]                                                                            |\n",
      "|6       |[Strawberry Cake, Chocolate Croissant, Casino Cake]                                                    |\n",
      "|12      |[Almond Twist, Ganache Cookie, Opera Cake, Single Espresso, Casino Cake, Raspberry Lemonade, Apple Pie]|\n",
      "+--------+-------------------------------------------------------------------------------------------------------+\n",
      "only showing top 3 rows\n",
      "\n"
     ]
    }
   ],
   "source": [
    "baskets_1.show(3, truncate=False)"
   ]
  },
  {
   "cell_type": "code",
   "execution_count": 51,
   "id": "56d62b75-b7b5-47a8-9e03-dd498c576359",
   "metadata": {},
   "outputs": [],
   "source": [
    "model_1 = fpGrowth.fit(baskets_1)"
   ]
  },
  {
   "cell_type": "code",
   "execution_count": 52,
   "id": "7e5ce38d-1aa5-4086-977b-a44e58cf0182",
   "metadata": {},
   "outputs": [
    {
     "name": "stdout",
     "output_type": "stream",
     "text": [
      "+---------------------------------------+----+\n",
      "|items                                  |freq|\n",
      "+---------------------------------------+----+\n",
      "|[Vanilla Meringue]                     |3179|\n",
      "|[Vanilla Meringue, Lemon Tart]         |252 |\n",
      "|[Vanilla Meringue, Marzipan Cookie]    |277 |\n",
      "|[Vanilla Meringue, Cheese Croissant]   |260 |\n",
      "|[Vanilla Meringue, Chocolate Tart]     |233 |\n",
      "|[Vanilla Meringue, Lemon Cake]         |293 |\n",
      "|[Vanilla Meringue, Tuile Cookie]       |312 |\n",
      "|[Vanilla Meringue, Apricot Danish]     |249 |\n",
      "|[Vanilla Meringue, Blueberry Tart]     |229 |\n",
      "|[Vanilla Meringue, Chocolate Coffee]   |245 |\n",
      "|[Vanilla Meringue, Strawberry Cake]    |299 |\n",
      "|[Vanilla Meringue, Blackberry Tart]    |229 |\n",
      "|[Vanilla Meringue, Gongolais Cookie]   |293 |\n",
      "|[Vanilla Meringue, Truffle Cake]       |255 |\n",
      "|[Vanilla Meringue, Apricot Croissant]  |229 |\n",
      "|[Vanilla Meringue, Hot Coffee]         |227 |\n",
      "|[Vanilla Meringue, Vanilla Frappuccino]|260 |\n",
      "|[Vanilla Meringue, Berry Tart]         |281 |\n",
      "|[Vanilla Meringue, Chocolate Cake]     |235 |\n",
      "|[Vanilla Meringue, Cherry Tart]        |267 |\n",
      "+---------------------------------------+----+\n",
      "only showing top 20 rows\n",
      "\n"
     ]
    }
   ],
   "source": [
    "# Display frequent itemsets\n",
    "model_1.freqItemsets.show(truncate=False)"
   ]
  },
  {
   "cell_type": "code",
   "execution_count": 54,
   "id": "5af5cd1a-b7c8-4d6c-9ad7-597dd759b3a8",
   "metadata": {},
   "outputs": [],
   "source": [
    "mostPopularItemInABasket_1 = model_1.transform(baskets_1)"
   ]
  },
  {
   "cell_type": "code",
   "execution_count": 57,
   "id": "a0473049-42c7-449a-999c-e4fc2a864700",
   "metadata": {},
   "outputs": [
    {
     "name": "stdout",
     "output_type": "stream",
     "text": [
      "-RECORD 0-----------------------------------------------------------------------------------------------------------------------------------------------------------------------------------------------------------------------------------------------------------------------------------------------------------------------------------------------------------------------------------------------------------------------------------------------------------------------------------------------------------------------------------------------------------------------------------------------------------------------------------------------------------------------------------------------------------------------------------------------------------\n",
      " order_id   | 1                                                                                                                                                                                                                                                                                                                                                                                                                                                                                                                                                                                                                                                                                                                                                     \n",
      " items      | [Ganache Cookie, Apple Pie]                                                                                                                                                                                                                                                                                                                                                                                                                                                                                                                                                                                                                                                                                                                           \n",
      " prediction | [Lemon Tart, Cheese Croissant, Marzipan Cookie, Lemon Cake, Tuile Cookie, Apricot Danish, Blueberry Tart, Strawberry Cake, Chocolate Coffee, Blackberry Tart, Gongolais Cookie, Truffle Cake, Apricot Croissant, Hot Coffee, Vanilla Frappuccino, Berry Tart, Cherry Tart, Chocolate Cake, Single Espresso, Napoleon Cake, Orange Juice, Bottled Water, Coffee Eclair, Lemon Lemonade, Almond Twist, Opera Cake, Walnut Cookie, Casino Cake, Chocolate Tart]                                                                                                                                                                                                                                                                                          \n",
      "-RECORD 1-----------------------------------------------------------------------------------------------------------------------------------------------------------------------------------------------------------------------------------------------------------------------------------------------------------------------------------------------------------------------------------------------------------------------------------------------------------------------------------------------------------------------------------------------------------------------------------------------------------------------------------------------------------------------------------------------------------------------------------------------------------\n",
      " order_id   | 6                                                                                                                                                                                                                                                                                                                                                                                                                                                                                                                                                                                                                                                                                                                                                     \n",
      " items      | [Strawberry Cake, Chocolate Croissant, Casino Cake]                                                                                                                                                                                                                                                                                                                                                                                                                                                                                                                                                                                                                                                                                                   \n",
      " prediction | [Lemon Tart, Cheese Croissant, Marzipan Cookie, Chocolate Tart, Lemon Cake, Tuile Cookie, Chocolate Coffee, Blackberry Tart, Gongolais Cookie, Truffle Cake, Hot Coffee, Vanilla Frappuccino, Opera Cake, Berry Tart, Chocolate Cake, Cherry Tart, Napoleon Cake, Bottled Water, Orange Juice, Coffee Eclair, Vanilla Meringue, Green Tea, Lemon Lemonade, Almond Tart, Apple Pie, Single Espresso, Pecan Tart, Almond Croissant, Apple Danish, Chocolate Eclair, Chocolate Meringue, Walnut Cookie, Vanilla Eclair, Raspberry Cookie, Apricot Croissant, Cherry Soda, Apple Tart, Raspberry Lemonade, Ganache Cookie, Apple Croissant, Almond Bear Claw, Apricot Tart, Lemon Cookie, Blueberry Danish, Almond Twist, Apricot Danish, Blueberry Tart] \n",
      "-RECORD 2-----------------------------------------------------------------------------------------------------------------------------------------------------------------------------------------------------------------------------------------------------------------------------------------------------------------------------------------------------------------------------------------------------------------------------------------------------------------------------------------------------------------------------------------------------------------------------------------------------------------------------------------------------------------------------------------------------------------------------------------------------------\n",
      " order_id   | 12                                                                                                                                                                                                                                                                                                                                                                                                                                                                                                                                                                                                                                                                                                                                                    \n",
      " items      | [Almond Twist, Ganache Cookie, Opera Cake, Single Espresso, Casino Cake, Raspberry Lemonade, Apple Pie]                                                                                                                                                                                                                                                                                                                                                                                                                                                                                                                                                                                                                                               \n",
      " prediction | [Lemon Tart, Cheese Croissant, Marzipan Cookie, Lemon Cake, Tuile Cookie, Apricot Danish, Blueberry Tart, Strawberry Cake, Chocolate Coffee, Blackberry Tart, Gongolais Cookie, Truffle Cake, Apricot Croissant, Hot Coffee, Vanilla Frappuccino, Berry Tart, Cherry Tart, Chocolate Cake, Napoleon Cake, Orange Juice, Bottled Water, Coffee Eclair, Walnut Cookie, Vanilla Eclair, Chocolate Tart, Lemon Cookie, Green Tea, Raspberry Cookie, Lemon Lemonade, Pecan Tart, Apple Danish, Chocolate Eclair, Chocolate Meringue, Apple Tart, Apple Croissant, Almond Croissant, Chocolate Croissant, Cherry Soda, Almond Bear Claw, Apricot Tart]                                                                                                      \n",
      "only showing top 3 rows\n",
      "\n"
     ]
    }
   ],
   "source": [
    "mostPopularItemInABasket_1.show(3, truncate=False, vertical=True)"
   ]
  },
  {
   "cell_type": "code",
   "execution_count": null,
   "id": "a9b049b5-f536-4dbf-a9de-f9b692999c41",
   "metadata": {},
   "outputs": [],
   "source": []
  }
 ],
 "metadata": {
  "kernelspec": {
   "display_name": "Python 3 (ipykernel)",
   "language": "python",
   "name": "python3"
  },
  "language_info": {
   "codemirror_mode": {
    "name": "ipython",
    "version": 3
   },
   "file_extension": ".py",
   "mimetype": "text/x-python",
   "name": "python",
   "nbconvert_exporter": "python",
   "pygments_lexer": "ipython3",
   "version": "3.10.0"
  }
 },
 "nbformat": 4,
 "nbformat_minor": 5
}
