{
 "cells": [
  {
   "cell_type": "markdown",
   "id": "1a1198e7-5717-4c82-a428-713197bf6a8c",
   "metadata": {},
   "source": [
    "## Recommendation - Amazon - Toys and Games\n",
    "*If you have one laptop/computer:*\n",
    "\n",
    "Use the information \"reviewerID\", \"asin\" (ProductID), and “overall” (users’ \n",
    "ratings for each product) in dataset **reviews_Toys_and_Games_5.json.gz** to \n",
    "build a model to **predict overalls for products** that have not been selected by \n",
    "users. \n",
    "\n",
    "Then make **recommendations** to some users: A3GJPLCZCDXXG6,\n",
    "A34U85WY8ZWBPV, A2VIY2TL6QPYLG"
   ]
  },
  {
   "cell_type": "code",
   "execution_count": 1,
   "id": "38ae7024-71fa-4415-99fd-db1978d14a92",
   "metadata": {},
   "outputs": [],
   "source": [
    "import findspark \n",
    "findspark.init()"
   ]
  },
  {
   "cell_type": "code",
   "execution_count": 2,
   "id": "64fd9b30-df6a-41f9-868b-77530b0f3e3c",
   "metadata": {},
   "outputs": [],
   "source": [
    "from pyspark.sql import SparkSession\n",
    "spark = SparkSession.builder.appName('recommendation').getOrCreate()"
   ]
  },
  {
   "cell_type": "markdown",
   "id": "4d9416ac-8f8a-440f-9dbf-23052be62d7e",
   "metadata": {},
   "source": [
    "- Đọc dữ liệu"
   ]
  },
  {
   "cell_type": "code",
   "execution_count": 3,
   "id": "23daede8-0825-4b6b-9b06-886d5fd8825d",
   "metadata": {},
   "outputs": [],
   "source": [
    "data = spark.read.json(\"Data/reviews_Toys_and_Games_5.json.gz\")"
   ]
  },
  {
   "cell_type": "code",
   "execution_count": 4,
   "id": "cf102efd-fd20-49ee-9441-203d9795d6b8",
   "metadata": {},
   "outputs": [
    {
     "name": "stdout",
     "output_type": "stream",
     "text": [
      "+----------+-------+-------+--------------------+-----------+--------------+--------------+--------------------+--------------+\n",
      "|      asin|helpful|overall|          reviewText| reviewTime|    reviewerID|  reviewerName|             summary|unixReviewTime|\n",
      "+----------+-------+-------+--------------------+-----------+--------------+--------------+--------------------+--------------+\n",
      "|0439893577| [0, 0]|    5.0|I like the item p...|01 29, 2014|A1VXOAVRGKGEAK|         Angie|      Magnetic board|    1390953600|\n",
      "|0439893577| [1, 1]|    4.0|Love the magnet e...|03 28, 2014| A8R62G708TSCM|       Candace|it works pretty g...|    1395964800|\n",
      "|0439893577| [1, 1]|    5.0|Both sides are ma...|01 28, 2013|A21KH420DK0ICA|capemaychristy|          love this!|    1359331200|\n",
      "|0439893577| [0, 0]|    5.0|Bought one a few ...| 02 8, 2014| AR29QK6HPFYZ4|          dcrm|   Daughters love it|    1391817600|\n",
      "|0439893577| [1, 1]|    4.0|I have a stainles...| 05 5, 2014| ACCH8EOML6FN5|          DoyZ|Great to have so ...|    1399248000|\n",
      "+----------+-------+-------+--------------------+-----------+--------------+--------------+--------------------+--------------+\n",
      "only showing top 5 rows\n",
      "\n"
     ]
    }
   ],
   "source": [
    "data.show(5)"
   ]
  },
  {
   "cell_type": "code",
   "execution_count": 5,
   "id": "f0af32bb-906a-4820-abf9-cc3496fe7158",
   "metadata": {},
   "outputs": [
    {
     "name": "stdout",
     "output_type": "stream",
     "text": [
      "root\n",
      " |-- asin: string (nullable = true)\n",
      " |-- helpful: array (nullable = true)\n",
      " |    |-- element: long (containsNull = true)\n",
      " |-- overall: double (nullable = true)\n",
      " |-- reviewText: string (nullable = true)\n",
      " |-- reviewTime: string (nullable = true)\n",
      " |-- reviewerID: string (nullable = true)\n",
      " |-- reviewerName: string (nullable = true)\n",
      " |-- summary: string (nullable = true)\n",
      " |-- unixReviewTime: long (nullable = true)\n",
      "\n"
     ]
    }
   ],
   "source": [
    "data.printSchema()"
   ]
  },
  {
   "cell_type": "code",
   "execution_count": 6,
   "id": "bde2cfcf-9996-4014-a3ef-b094774b5b81",
   "metadata": {},
   "outputs": [],
   "source": [
    "data_sub = data.select(['asin', 'overall', 'reviewerID'])"
   ]
  },
  {
   "cell_type": "code",
   "execution_count": 7,
   "id": "557b9a9f-36f2-4239-aa0d-852c3da5530b",
   "metadata": {},
   "outputs": [
    {
     "data": {
      "text/plain": [
       "167597"
      ]
     },
     "execution_count": 7,
     "metadata": {},
     "output_type": "execute_result"
    }
   ],
   "source": [
    "data_sub.count()"
   ]
  },
  {
   "cell_type": "code",
   "execution_count": 8,
   "id": "42cf6a49-40f4-421a-85bc-70620553cf37",
   "metadata": {},
   "outputs": [],
   "source": [
    "# Distinct users and products\n",
    "users = data_sub.select(\"reviewerID\").distinct().count()\n",
    "products = data_sub.select(\"asin\").distinct().count()\n",
    "numerator = data_sub.count()"
   ]
  },
  {
   "cell_type": "code",
   "execution_count": 9,
   "id": "210b258a-cfe0-445c-8807-5356c5d8e87e",
   "metadata": {},
   "outputs": [
    {
     "data": {
      "text/plain": [
       "167597"
      ]
     },
     "metadata": {},
     "output_type": "display_data"
    },
    {
     "data": {
      "text/plain": [
       "19412"
      ]
     },
     "metadata": {},
     "output_type": "display_data"
    },
    {
     "data": {
      "text/plain": [
       "11924"
      ]
     },
     "metadata": {},
     "output_type": "display_data"
    }
   ],
   "source": [
    "display(numerator, users, products)"
   ]
  },
  {
   "cell_type": "markdown",
   "id": "488acc7f-0bb3-4a50-b38d-f421b57ce060",
   "metadata": {},
   "source": [
    "- Kiểm tra dữ liệu đã ratings"
   ]
  },
  {
   "cell_type": "code",
   "execution_count": 10,
   "id": "6984dae4-81bc-431b-9f8f-88a91cb79c54",
   "metadata": {},
   "outputs": [
    {
     "data": {
      "text/plain": [
       "231468688"
      ]
     },
     "execution_count": 10,
     "metadata": {},
     "output_type": "execute_result"
    }
   ],
   "source": [
    "# Number of ratings matrix could contains if no empty cells\n",
    "denominator = users * products\n",
    "denominator"
   ]
  },
  {
   "cell_type": "code",
   "execution_count": 11,
   "id": "e83db667-c908-4e4c-9f74-6a9124c91c22",
   "metadata": {},
   "outputs": [
    {
     "name": "stdout",
     "output_type": "stream",
     "text": [
      "Sparsity:  0.9992759409428199\n"
     ]
    }
   ],
   "source": [
    "# Calculating sparsity \n",
    "sparsity = 1 - (numerator*1.0/denominator)\n",
    "print(\"Sparsity: \", sparsity)"
   ]
  },
  {
   "cell_type": "markdown",
   "id": "338f7f2e-f392-4d34-a220-9cefec4dac16",
   "metadata": {},
   "source": [
    "- Chuẩn hóa dữ liệu"
   ]
  },
  {
   "cell_type": "code",
   "execution_count": 12,
   "id": "76dbed9f-e28e-4ec2-83c5-66e02b3a20fe",
   "metadata": {},
   "outputs": [],
   "source": [
    "from pyspark.sql import SQLContext\n",
    "from pyspark.ml.evaluation import RegressionEvaluator\n",
    "from pyspark.ml.recommendation import ALS\n",
    "from pyspark.sql.functions import col, explode\n",
    "from pyspark.ml.feature import StringIndexer\n",
    "from pyspark.sql.functions import *"
   ]
  },
  {
   "cell_type": "code",
   "execution_count": 14,
   "id": "af91470c-ea10-496b-9934-cf7eea8a1f48",
   "metadata": {},
   "outputs": [],
   "source": [
    "# Create an indexer \n",
    "indexer = StringIndexer(inputCols=[\"asin\", \"reviewerID\"],\n",
    "                      outputCols=[\"asin_idx\", \"reviewerID_idx\"])\n",
    "final_data = indexer.fit(data_sub).transform(data_sub)"
   ]
  },
  {
   "cell_type": "code",
   "execution_count": 15,
   "id": "46e5560d-51ae-4d6a-8b42-22a1210b0bd4",
   "metadata": {},
   "outputs": [
    {
     "name": "stdout",
     "output_type": "stream",
     "text": [
      "+----------+-------+--------------+--------+--------------+\n",
      "|      asin|overall|    reviewerID|asin_idx|reviewerID_idx|\n",
      "+----------+-------+--------------+--------+--------------+\n",
      "|0439893577|    5.0|A1VXOAVRGKGEAK|  2524.0|       14349.0|\n",
      "|0439893577|    4.0| A8R62G708TSCM|  2524.0|       18115.0|\n",
      "|0439893577|    5.0|A21KH420DK0ICA|  2524.0|        4454.0|\n",
      "|0439893577|    5.0| AR29QK6HPFYZ4|  2524.0|       18990.0|\n",
      "|0439893577|    4.0| ACCH8EOML6FN5|  2524.0|        2769.0|\n",
      "+----------+-------+--------------+--------+--------------+\n",
      "only showing top 5 rows\n",
      "\n"
     ]
    }
   ],
   "source": [
    "final_data.show(5)"
   ]
  },
  {
   "cell_type": "code",
   "execution_count": 16,
   "id": "3a9dc7de-cb00-4d94-b545-0d48d88c3628",
   "metadata": {},
   "outputs": [
    {
     "data": {
      "text/html": [
       "<div>\n",
       "<style scoped>\n",
       "    .dataframe tbody tr th:only-of-type {\n",
       "        vertical-align: middle;\n",
       "    }\n",
       "\n",
       "    .dataframe tbody tr th {\n",
       "        vertical-align: top;\n",
       "    }\n",
       "\n",
       "    .dataframe thead th {\n",
       "        text-align: right;\n",
       "    }\n",
       "</style>\n",
       "<table border=\"1\" class=\"dataframe\">\n",
       "  <thead>\n",
       "    <tr style=\"text-align: right;\">\n",
       "      <th></th>\n",
       "      <th>0</th>\n",
       "    </tr>\n",
       "  </thead>\n",
       "  <tbody>\n",
       "    <tr>\n",
       "      <th>asin</th>\n",
       "      <td>0</td>\n",
       "    </tr>\n",
       "    <tr>\n",
       "      <th>overall</th>\n",
       "      <td>0</td>\n",
       "    </tr>\n",
       "    <tr>\n",
       "      <th>reviewerID</th>\n",
       "      <td>0</td>\n",
       "    </tr>\n",
       "    <tr>\n",
       "      <th>asin_idx</th>\n",
       "      <td>0</td>\n",
       "    </tr>\n",
       "    <tr>\n",
       "      <th>reviewerID_idx</th>\n",
       "      <td>0</td>\n",
       "    </tr>\n",
       "  </tbody>\n",
       "</table>\n",
       "</div>"
      ],
      "text/plain": [
       "                0\n",
       "asin            0\n",
       "overall         0\n",
       "reviewerID      0\n",
       "asin_idx        0\n",
       "reviewerID_idx  0"
      ]
     },
     "execution_count": 16,
     "metadata": {},
     "output_type": "execute_result"
    }
   ],
   "source": [
    "# Kiểm tra giá trị null\n",
    "final_data.select([count(when(col(x).isNull(), x)).alias(x) for x in final_data.columns]).toPandas().T"
   ]
  },
  {
   "cell_type": "markdown",
   "id": "ce9d8a46-0810-4094-83b3-e3c275eb8252",
   "metadata": {},
   "source": [
    "- Chia train-test"
   ]
  },
  {
   "cell_type": "code",
   "execution_count": 20,
   "id": "25f2d3de-ea17-4e49-a3c0-c605dff083c0",
   "metadata": {},
   "outputs": [],
   "source": [
    "train, test = final_data.randomSplit([0.8, 0.2])"
   ]
  },
  {
   "cell_type": "markdown",
   "id": "e162263b-bba3-41de-b0c7-9691ae793d5f",
   "metadata": {},
   "source": [
    "- ALS model"
   ]
  },
  {
   "cell_type": "code",
   "execution_count": 21,
   "id": "70aafb6f-2dbd-4485-8641-5615041400ad",
   "metadata": {},
   "outputs": [],
   "source": [
    "als = ALS(maxIter=5,\n",
    "          regParam=0.01,\n",
    "          userCol=\"reviewerID_idx\",\n",
    "          itemCol=\"asin_idx\",\n",
    "          ratingCol=\"overall\",\n",
    "          coldStartStrategy=\"drop\",\n",
    "          nonnegative=True)"
   ]
  },
  {
   "cell_type": "code",
   "execution_count": 22,
   "id": "fb098e8e-dfba-4d0a-bb9a-75244e7569fe",
   "metadata": {},
   "outputs": [],
   "source": [
    "model = als.fit(train)"
   ]
  },
  {
   "cell_type": "code",
   "execution_count": 23,
   "id": "d9458097-566a-4762-b213-cd56db3eef5e",
   "metadata": {},
   "outputs": [],
   "source": [
    "# Evaluate the model \n",
    "predictions = model.transform(test)"
   ]
  },
  {
   "cell_type": "code",
   "execution_count": 25,
   "id": "c1756c5c-3d90-4e2a-b977-3fc10f221627",
   "metadata": {},
   "outputs": [
    {
     "name": "stdout",
     "output_type": "stream",
     "text": [
      "+----------+-------+\n",
      "|prediction|overall|\n",
      "+----------+-------+\n",
      "| 2.9577603|    3.0|\n",
      "| 3.8887873|    4.0|\n",
      "|  4.822749|    5.0|\n",
      "|  3.756661|    5.0|\n",
      "| 6.2256937|    5.0|\n",
      "+----------+-------+\n",
      "only showing top 5 rows\n",
      "\n"
     ]
    }
   ],
   "source": [
    "predictions.select(\"prediction\", \"overall\").show(5)"
   ]
  },
  {
   "cell_type": "code",
   "execution_count": 26,
   "id": "0c1c6beb-c45f-4e0a-afb7-b81b10fe7223",
   "metadata": {},
   "outputs": [],
   "source": [
    "evaluator = RegressionEvaluator(labelCol=\"overall\",\n",
    "                                metricName=\"rmse\")\n",
    "rmse = evaluator.evaluate(predictions)"
   ]
  },
  {
   "cell_type": "code",
   "execution_count": 27,
   "id": "7f333b42-cb22-41e8-8723-17e3b9aa9cc0",
   "metadata": {},
   "outputs": [
    {
     "name": "stdout",
     "output_type": "stream",
     "text": [
      "Root-mean-square error = 1.781429128192685\n"
     ]
    }
   ],
   "source": [
    "print(\"Root-mean-square error = \" + str(rmse))"
   ]
  },
  {
   "cell_type": "markdown",
   "id": "c1d2d428-6712-4384-b17e-9a9487d833b6",
   "metadata": {},
   "source": [
    "- Hiệu chỉnh tham số"
   ]
  },
  {
   "cell_type": "code",
   "execution_count": 52,
   "id": "a1cfec8f-27c8-476d-9da5-f13db946749a",
   "metadata": {},
   "outputs": [],
   "source": [
    "als_t = ALS(maxIter=10, \n",
    "          regParam=0.2,\n",
    "          userCol=\"reviewerID_idx\",\n",
    "          itemCol=\"asin_idx\",\n",
    "          ratingCol=\"overall\",\n",
    "          coldStartStrategy=\"drop\", \n",
    "          nonnegative=True)\n",
    "model_t = als_t.fit(train)"
   ]
  },
  {
   "cell_type": "code",
   "execution_count": 53,
   "id": "bfe8df13-6e1c-4725-967b-4c7c1430d12a",
   "metadata": {},
   "outputs": [],
   "source": [
    "# Evaluate the model by computing the RMSE on the test data\n",
    "predictions_t = model_t.transform(test)"
   ]
  },
  {
   "cell_type": "code",
   "execution_count": 54,
   "id": "d89439ca-4ebe-4383-ab0d-275c9399794a",
   "metadata": {},
   "outputs": [
    {
     "data": {
      "text/plain": [
       "1.053620461806695"
      ]
     },
     "execution_count": 54,
     "metadata": {},
     "output_type": "execute_result"
    }
   ],
   "source": [
    "rmse_t = evaluator.evaluate(predictions_t)\n",
    "rmse_t"
   ]
  },
  {
   "cell_type": "markdown",
   "id": "ea5991d5-3ac6-4e12-bb77-f4f22c6b8ec4",
   "metadata": {},
   "source": [
    "Vì RMSE nhỏ hơn nên sẽ tốt hơn -> Vì vậy chọn model_t"
   ]
  },
  {
   "cell_type": "markdown",
   "id": "8b3d10e8-7445-40ef-a7a6-e0ff210b835e",
   "metadata": {},
   "source": [
    "- Đưa ra đề xuất cho tất cả user "
   ]
  },
  {
   "cell_type": "code",
   "execution_count": 56,
   "id": "931556b9-5ef6-4bd1-8590-f035e61f4b25",
   "metadata": {},
   "outputs": [],
   "source": [
    "# Get 10 recommendations which have highest rating \n",
    "user_recs = model_t.recommendForAllUsers(10)"
   ]
  },
  {
   "cell_type": "code",
   "execution_count": 57,
   "id": "7ead768d-a249-4600-b206-2dea6f5f0b8c",
   "metadata": {},
   "outputs": [
    {
     "name": "stdout",
     "output_type": "stream",
     "text": [
      "root\n",
      " |-- reviewerID_idx: integer (nullable = false)\n",
      " |-- recommendations: array (nullable = true)\n",
      " |    |-- element: struct (containsNull = true)\n",
      " |    |    |-- asin_idx: integer (nullable = true)\n",
      " |    |    |-- rating: float (nullable = true)\n",
      "\n"
     ]
    }
   ],
   "source": [
    "user_recs.printSchema()"
   ]
  },
  {
   "cell_type": "code",
   "execution_count": 58,
   "id": "d6e341e7-e850-4292-9d42-3c1c82a2a416",
   "metadata": {},
   "outputs": [
    {
     "name": "stdout",
     "output_type": "stream",
     "text": [
      "Row(reviewerID_idx=26, recommendations=[Row(asin_idx=7262, rating=5.084777355194092), Row(asin_idx=8816, rating=5.082546710968018), Row(asin_idx=10827, rating=5.005214214324951), Row(asin_idx=8309, rating=4.987359046936035), Row(asin_idx=10259, rating=4.954450607299805), Row(asin_idx=8537, rating=4.9374871253967285), Row(asin_idx=11914, rating=4.937190532684326), Row(asin_idx=5117, rating=4.936103343963623), Row(asin_idx=11123, rating=4.908851623535156), Row(asin_idx=9254, rating=4.893795490264893)])\n",
      "Row(reviewerID_idx=27, recommendations=[Row(asin_idx=8816, rating=5.499844551086426), Row(asin_idx=8309, rating=5.49474573135376), Row(asin_idx=7262, rating=5.455920219421387), Row(asin_idx=8610, rating=5.426054000854492), Row(asin_idx=9687, rating=5.408535003662109), Row(asin_idx=6042, rating=5.406440734863281), Row(asin_idx=11749, rating=5.383360385894775), Row(asin_idx=11569, rating=5.37180233001709), Row(asin_idx=9284, rating=5.361762046813965), Row(asin_idx=11829, rating=5.358858108520508)])\n",
      "Row(reviewerID_idx=28, recommendations=[Row(asin_idx=10259, rating=4.754695892333984), Row(asin_idx=5906, rating=4.670669078826904), Row(asin_idx=10827, rating=4.663300037384033), Row(asin_idx=5301, rating=4.661235332489014), Row(asin_idx=11832, rating=4.651551246643066), Row(asin_idx=7262, rating=4.6460280418396), Row(asin_idx=7461, rating=4.643051624298096), Row(asin_idx=6028, rating=4.641939640045166), Row(asin_idx=9800, rating=4.639593601226807), Row(asin_idx=7643, rating=4.631955623626709)])\n"
     ]
    }
   ],
   "source": [
    "for user in user_recs.head(3):\n",
    "    print(user)"
   ]
  },
  {
   "cell_type": "code",
   "execution_count": 59,
   "id": "da01b4d5-ba44-428d-9a91-ac361c2dc17b",
   "metadata": {},
   "outputs": [],
   "source": [
    "# Chuẩn hóa \n",
    "result = user_recs.select(user_recs.reviewerID_idx, explode(user_recs.recommendations))"
   ]
  },
  {
   "cell_type": "code",
   "execution_count": 60,
   "id": "3755f357-5f58-4e57-9f39-32c7737e1c3b",
   "metadata": {},
   "outputs": [
    {
     "name": "stdout",
     "output_type": "stream",
     "text": [
      "+--------------+------------------+---------+---------+\n",
      "|reviewerID_idx|               col|productId|   rating|\n",
      "+--------------+------------------+---------+---------+\n",
      "|            26| {7262, 5.0847774}|     7262|5.0847774|\n",
      "|            26| {8816, 5.0825467}|     8816|5.0825467|\n",
      "|            26| {10827, 5.005214}|    10827| 5.005214|\n",
      "|            26|  {8309, 4.987359}|     8309| 4.987359|\n",
      "|            26|{10259, 4.9544506}|    10259|4.9544506|\n",
      "|            26|  {8537, 4.937487}|     8537| 4.937487|\n",
      "|            26|{11914, 4.9371905}|    11914|4.9371905|\n",
      "|            26| {5117, 4.9361033}|     5117|4.9361033|\n",
      "|            26|{11123, 4.9088516}|    11123|4.9088516|\n",
      "|            26| {9254, 4.8937955}|     9254|4.8937955|\n",
      "|            27| {8816, 5.4998446}|     8816|5.4998446|\n",
      "|            27| {8309, 5.4947457}|     8309|5.4947457|\n",
      "|            27|   {7262, 5.45592}|     7262|  5.45592|\n",
      "|            27|  {8610, 5.426054}|     8610| 5.426054|\n",
      "|            27|  {9687, 5.408535}|     9687| 5.408535|\n",
      "|            27| {6042, 5.4064407}|     6042|5.4064407|\n",
      "|            27|{11749, 5.3833604}|    11749|5.3833604|\n",
      "|            27|{11569, 5.3718023}|    11569|5.3718023|\n",
      "|            27|  {9284, 5.361762}|     9284| 5.361762|\n",
      "|            27| {11829, 5.358858}|    11829| 5.358858|\n",
      "+--------------+------------------+---------+---------+\n",
      "only showing top 20 rows\n",
      "\n"
     ]
    }
   ],
   "source": [
    "result = result.withColumn(\"productId\", result.col.getField(\"asin_idx\"))\\\n",
    "                .withColumn(\"rating\", result.col.getField(\"rating\"))\n",
    "result.show()"
   ]
  },
  {
   "cell_type": "markdown",
   "id": "69e7077d-d9fa-411f-8dcf-9562c4a47741",
   "metadata": {},
   "source": [
    "- Make **recommendations** to some users: A3GJPLCZCDXXG6,\n",
    "A34U85WY8ZWBPV, A2VIY2TL6QPYLG"
   ]
  },
  {
   "cell_type": "code",
   "execution_count": 63,
   "id": "5c4fac5f-7848-4713-99b9-dcc7eba0c311",
   "metadata": {},
   "outputs": [],
   "source": [
    "df_reviewer = final_data.select('reviewerID_idx', 'reviewerID').distinct()"
   ]
  },
  {
   "cell_type": "code",
   "execution_count": 64,
   "id": "883e991f-7029-4780-b63a-52c78b47ccec",
   "metadata": {},
   "outputs": [
    {
     "data": {
      "text/plain": [
       "19412"
      ]
     },
     "execution_count": 64,
     "metadata": {},
     "output_type": "execute_result"
    }
   ],
   "source": [
    "df_reviewer.count()"
   ]
  },
  {
   "cell_type": "code",
   "execution_count": 65,
   "id": "105a206d-7a14-45a8-ad85-66546e56ea8a",
   "metadata": {},
   "outputs": [
    {
     "name": "stdout",
     "output_type": "stream",
     "text": [
      "+--------------+--------------+\n",
      "|reviewerID_idx|    reviewerID|\n",
      "+--------------+--------------+\n",
      "|        1688.0|A32EBQDMOPEJHE|\n",
      "|        4094.0| AJ36J4LKI6M0K|\n",
      "|       15847.0|A2R4AIJZR65WFG|\n",
      "|       15154.0|A2CV5DM78XPO3K|\n",
      "|        1155.0|A2R8R97INVXBR1|\n",
      "+--------------+--------------+\n",
      "only showing top 5 rows\n",
      "\n"
     ]
    }
   ],
   "source": [
    "df_reviewer.show(5)"
   ]
  },
  {
   "cell_type": "code",
   "execution_count": 66,
   "id": "64cd3651-15d2-4824-aef3-898805ea51a3",
   "metadata": {},
   "outputs": [],
   "source": [
    "df_asin = final_data.select('asin_idx', 'asin').distinct()"
   ]
  },
  {
   "cell_type": "code",
   "execution_count": 67,
   "id": "17a90e58-f877-4caa-98b0-0cd5a5059d2a",
   "metadata": {},
   "outputs": [
    {
     "data": {
      "text/plain": [
       "11924"
      ]
     },
     "execution_count": 67,
     "metadata": {},
     "output_type": "execute_result"
    }
   ],
   "source": [
    "df_asin.count()"
   ]
  },
  {
   "cell_type": "code",
   "execution_count": 68,
   "id": "a6cd7fc4-973c-43b1-98ea-1199f113490a",
   "metadata": {},
   "outputs": [
    {
     "name": "stdout",
     "output_type": "stream",
     "text": [
      "+--------+----------+\n",
      "|asin_idx|      asin|\n",
      "+--------+----------+\n",
      "|  9630.0|1603800689|\n",
      "|    19.0|B00000K3BR|\n",
      "|  3225.0|B00001ZT4D|\n",
      "|  2347.0|B00006JBKT|\n",
      "|  1600.0|B00012TGL6|\n",
      "+--------+----------+\n",
      "only showing top 5 rows\n",
      "\n"
     ]
    }
   ],
   "source": [
    "df_asin.show(5)"
   ]
  },
  {
   "cell_type": "code",
   "execution_count": 70,
   "id": "bb2b3fbe-5d9f-49c2-a8f9-37d473f993e8",
   "metadata": {},
   "outputs": [],
   "source": [
    "new_user_recs = user_recs.join(df_reviewer, on=['reviewerID_idx'], how='left')"
   ]
  },
  {
   "cell_type": "code",
   "execution_count": 71,
   "id": "ff0e2687-9aaf-4ff4-bff9-b780bd5e0dfe",
   "metadata": {},
   "outputs": [
    {
     "name": "stdout",
     "output_type": "stream",
     "text": [
      "+--------------+--------------------+--------------+\n",
      "|reviewerID_idx|     recommendations|    reviewerID|\n",
      "+--------------+--------------------+--------------+\n",
      "|            26|[{7262, 5.0847774...|A15D2X8MICR2VQ|\n",
      "|            27|[{8816, 5.4998446...| ALDAF4VVLFRHP|\n",
      "|            28|[{10259, 4.754696...|A1UP19XQH91JT0|\n",
      "|            31|[{8816, 5.552029}...|A1RKCT4H3X3J1W|\n",
      "|            34|[{7262, 4.766273}...|A1FQNNX80WYWKR|\n",
      "|            44|[{11550, 5.085070...|A2HZKWV36U9SXM|\n",
      "|            53|[{8309, 4.900084}...|A23KACXOE9O9TX|\n",
      "|            65|[{7262, 5.470727}...|A3R01WHD75L6FG|\n",
      "|            76|[{8612, 4.959904}...| A6VSWJVTWEOII|\n",
      "|            78|[{7262, 5.1724234...|A2BZ16RKE13PKV|\n",
      "+--------------+--------------------+--------------+\n",
      "only showing top 10 rows\n",
      "\n"
     ]
    }
   ],
   "source": [
    "new_user_recs.show(10)"
   ]
  },
  {
   "cell_type": "code",
   "execution_count": 74,
   "id": "6d3c45fa-49c1-450b-94eb-dca7752fa7a0",
   "metadata": {},
   "outputs": [],
   "source": [
    "# Recommendation for reviewerID = 'A3GJPLCZCDXXG6'\n",
    "reviewerID = 'A3GJPLCZCDXXG6'\n",
    "find_user_rec = new_user_recs.filter(new_user_recs['reviewerID'] == reviewerID)\n",
    "user = find_user_rec.first()\n",
    "lst = []\n",
    "for row in user['recommendations']:\n",
    "    row_f = df_asin.filter(df_asin.asin_idx == row['asin_idx'])\n",
    "    row_f_first = row_f.first()\n",
    "    lst.append((row['asin_idx'], row_f_first['asin'], row['rating']))\n",
    "dic_user_rec = {'reviewerID' : user.reviewerID, 'recommendations' :lst}"
   ]
  },
  {
   "cell_type": "code",
   "execution_count": 75,
   "id": "6c92df83-477f-4c7c-a6bd-d0717f6a6b35",
   "metadata": {},
   "outputs": [
    {
     "data": {
      "text/plain": [
       "{'reviewerID': 'A3GJPLCZCDXXG6',\n",
       " 'recommendations': [(11749, 'B00C6PUTDK', 5.6095170974731445),\n",
       "  (8309, 'B000HSVAQ8', 5.569020748138428),\n",
       "  (8610, 'B001W30E14', 5.560372352600098),\n",
       "  (8816, 'B003F2636A', 5.545396327972412),\n",
       "  (5301, 'B00F6T8NYU', 5.539116859436035),\n",
       "  (11699, 'B00BCJLWZU', 5.493358612060547),\n",
       "  (11569, 'B009DQGLFA', 5.487114906311035),\n",
       "  (9254, 'B007CB7X1E', 5.4832763671875),\n",
       "  (9687, 'B00005BMKX', 5.478617191314697),\n",
       "  (7262, 'B001JQLJNQ', 5.470534324645996)]}"
      ]
     },
     "execution_count": 75,
     "metadata": {},
     "output_type": "execute_result"
    }
   ],
   "source": [
    "dic_user_rec"
   ]
  },
  {
   "cell_type": "code",
   "execution_count": 76,
   "id": "b7e0ffc1-3068-4ad1-b3a0-0d6606c337b1",
   "metadata": {},
   "outputs": [],
   "source": [
    "# Recommendation for reviewerID = 'A34U85WY8ZWBPV'\n",
    "reviewerID = 'A34U85WY8ZWBPV'\n",
    "find_user_rec = new_user_recs.filter(new_user_recs['reviewerID'] == reviewerID)\n",
    "user = find_user_rec.first()\n",
    "lst = []\n",
    "for row in user['recommendations']:\n",
    "    row_f = df_asin.filter(df_asin.asin_idx == row['asin_idx'])\n",
    "    row_f_first = row_f.first()\n",
    "    lst.append((row['asin_idx'], row_f_first['asin'], row['rating']))\n",
    "dic_user_rec2 = {'reviewerID' : user.reviewerID, 'recommendations' :lst}"
   ]
  },
  {
   "cell_type": "code",
   "execution_count": 77,
   "id": "e721f4e1-cbf4-4ab2-b2af-9baa3380643d",
   "metadata": {},
   "outputs": [
    {
     "data": {
      "text/plain": [
       "{'reviewerID': 'A34U85WY8ZWBPV',\n",
       " 'recommendations': [(10827, 'B003O3FYP6', 5.406717300415039),\n",
       "  (8537, 'B001GQHS3Y', 5.398741722106934),\n",
       "  (11123, 'B004Y8TF96', 5.392770767211914),\n",
       "  (3925, 'B000GKW6FQ', 5.359477996826172),\n",
       "  (7262, 'B001JQLJNQ', 5.347270965576172),\n",
       "  (4691, 'B00CM5D8QE', 5.330094337463379),\n",
       "  (9850, 'B0007N697S', 5.276577472686768),\n",
       "  (10259, 'B0013E5HW8', 5.261631011962891),\n",
       "  (9448, 'B00AZZ0F4Q', 5.240566730499268),\n",
       "  (11268, 'B00633HCFE', 5.200982093811035)]}"
      ]
     },
     "execution_count": 77,
     "metadata": {},
     "output_type": "execute_result"
    }
   ],
   "source": [
    "dic_user_rec2"
   ]
  },
  {
   "cell_type": "code",
   "execution_count": 78,
   "id": "35df2a9c-4af5-46a4-88b8-f50f14223486",
   "metadata": {},
   "outputs": [],
   "source": [
    "# Recommendation for reviewerID = 'A2VIY2TL6QPYLG'\n",
    "reviewerID = 'A2VIY2TL6QPYLG'\n",
    "find_user_rec = new_user_recs.filter(new_user_recs['reviewerID'] == reviewerID)\n",
    "user = find_user_rec.first()\n",
    "lst = []\n",
    "for row in user['recommendations']:\n",
    "    row_f = df_asin.filter(df_asin.asin_idx == row['asin_idx'])\n",
    "    row_f_first = row_f.first()\n",
    "    lst.append((row['asin_idx'], row_f_first['asin'], row['rating']))\n",
    "dic_user_rec3 = {'reviewerID' : user.reviewerID, 'recommendations' :lst}"
   ]
  },
  {
   "cell_type": "code",
   "execution_count": 79,
   "id": "7588de98-087f-4e80-ab38-de852b10f2bd",
   "metadata": {},
   "outputs": [
    {
     "data": {
      "text/plain": [
       "{'reviewerID': 'A2VIY2TL6QPYLG',\n",
       " 'recommendations': [(7262, 'B001JQLJNQ', 5.6590447425842285),\n",
       "  (9928, 'B000BN8XLY', 5.48148775100708),\n",
       "  (8917, 'B0045O75AU', 5.443199634552002),\n",
       "  (10827, 'B003O3FYP6', 5.382073402404785),\n",
       "  (11749, 'B00C6PUTDK', 5.37076997756958),\n",
       "  (9254, 'B007CB7X1E', 5.35860013961792),\n",
       "  (11699, 'B00BCJLWZU', 5.335951805114746),\n",
       "  (9800, 'B0002HYHT6', 5.320662021636963),\n",
       "  (9669, 'B00003GPDQ', 5.306426048278809),\n",
       "  (6255, 'B00134TC60', 5.298676490783691)]}"
      ]
     },
     "execution_count": 79,
     "metadata": {},
     "output_type": "execute_result"
    }
   ],
   "source": [
    "dic_user_rec3"
   ]
  },
  {
   "cell_type": "code",
   "execution_count": null,
   "id": "7cd3adb6-0aa1-480f-b50c-9362dc623140",
   "metadata": {},
   "outputs": [],
   "source": []
  }
 ],
 "metadata": {
  "kernelspec": {
   "display_name": "Python 3 (ipykernel)",
   "language": "python",
   "name": "python3"
  },
  "language_info": {
   "codemirror_mode": {
    "name": "ipython",
    "version": 3
   },
   "file_extension": ".py",
   "mimetype": "text/x-python",
   "name": "python",
   "nbconvert_exporter": "python",
   "pygments_lexer": "ipython3",
   "version": "3.10.0"
  }
 },
 "nbformat": 4,
 "nbformat_minor": 5
}
